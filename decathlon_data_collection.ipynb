{
 "cells": [
  {
   "cell_type": "markdown",
   "id": "28772e17-050c-4322-88a7-94e89cc31c29",
   "metadata": {
    "tags": []
   },
   "source": [
    "# Trends in the Olympic Decathlon: Data Collection\n",
    "\n",
    "Aleksandar Bahat\n",
    "\n",
    "---"
   ]
  },
  {
   "cell_type": "markdown",
   "id": "86879e15-1603-4be8-b5dd-7b7e9216ebce",
   "metadata": {
    "tags": []
   },
   "source": [
    "## Introduction"
   ]
  },
  {
   "cell_type": "markdown",
   "id": "33c58ba3-1eb7-4177-8bb4-d1e3803f9531",
   "metadata": {
    "jp-MarkdownHeadingCollapsed": true,
    "tags": []
   },
   "source": [
    "The decathlon is track and field's ten-part \"combined\" event. It consists of:\n",
    "- the 100m, long jump, shot put, high jump, and 400m on the first day of competition, and \n",
    "- the 110m hurdles, discus throw, pole vault, javelin throw, and 1500m on the second day."
   ]
  },
  {
   "cell_type": "markdown",
   "id": "71409ddb-6331-4485-98d9-f7690d37e7be",
   "metadata": {
    "jp-MarkdownHeadingCollapsed": true,
    "tags": []
   },
   "source": [
    "Each event is scored according to a standardized formula, and ranks are determined by total points across all ten events."
   ]
  },
  {
   "cell_type": "markdown",
   "id": "af311221-447f-4b91-9480-297c02eb8185",
   "metadata": {
    "jp-MarkdownHeadingCollapsed": true,
    "tags": []
   },
   "source": [
    "The decathlon has been a part of every modern Summer Olympics since they began in 1912.\n",
    "Because there's so much quantitative data associated with it — that's 25 Olympics, every one with dozens of decathletes, each of whom generates 10 times, distances, and heights, *and* 10 scores to match — it's a data analyst's dream! Its complexity invites many questions, such as:\n",
    "- Do Olympic decathletes tend to favor certain events? Put another way, where should decathletes focus their training? Does the current scoring system fairly balance running, jumping, and throwing?\n",
    "- Do Olympic decathletes tend towards a certain body type? A certain age?\n",
    "- How do the winners and medalists differ from the rest of the competitors?\n",
    "- How have the answers to those questions changed over time? Have Olympic decathletes gotten better at hurdling? Worse at shot putting? Taller? Slimmer? And so on."
   ]
  },
  {
   "cell_type": "markdown",
   "id": "71af04d8-d279-46cc-bb2d-df9085617a84",
   "metadata": {
    "jp-MarkdownHeadingCollapsed": true,
    "tags": []
   },
   "source": [
    "This notebook contains the first half of this project, the data collection. The data we need is extensive and spread across many different webpages, so better to automate the scraping rather than copying and pasting tables manually. In the next notebook we'll do the analysis."
   ]
  },
  {
   "cell_type": "markdown",
   "id": "220e0bbf-35a4-414e-a861-4f632feecc84",
   "metadata": {
    "jp-MarkdownHeadingCollapsed": true,
    "tags": []
   },
   "source": [
    "Our primary source is [the decathlon page](https://www.olympedia.org/event_names/93) on [Olympedia.org](https://www.olympedia.org), a thorough archive of Olympic results and athlete biographies. However, it's not quite complete: it includes the overall results from the Tokyo 2020 decathlon, but not the results for each of its constituent events. So we get that data from [the relevant Wikipedia page](https://en.wikipedia.org/wiki/Athletics_at_the_2020_Summer_Olympics_–_Men%27s_decathlon) instead."
   ]
  },
  {
   "cell_type": "markdown",
   "id": "84f1ff8b-ba22-4a4c-9496-d03a8edf42a1",
   "metadata": {
    "jp-MarkdownHeadingCollapsed": true,
    "tags": []
   },
   "source": [
    "For each Olympic year except 2020, we'll create an \"overall\" DataFrame, a \"biographical\" DataFrame, and an \"events\" DataFrame. Then we'll combine those three DataFrames into one. All of those DataFrames will be indexed by athlete. To finish, we'll combine the DataFrames from every year (including one for 2020, created separately) into one multi-indexed DataFrame, with year as the primary index and athlete as the secondary index. This master DataFrame gets exported to a CSV file. Numerous local corrections are required along the way, since the data is often formatted inconsistently or contains errors."
   ]
  },
  {
   "cell_type": "markdown",
   "id": "abe8a97e-0c2e-43b5-ad25-2a29c400cb46",
   "metadata": {
    "tags": []
   },
   "source": [
    "## Libraries"
   ]
  },
  {
   "cell_type": "code",
   "execution_count": 1,
   "id": "63704c2d-6d57-45c4-80d6-155319cf2f14",
   "metadata": {},
   "outputs": [],
   "source": [
    "import requests\n",
    "from bs4 import BeautifulSoup\n",
    "import functools\n",
    "from decimal import *\n",
    "import pandas as pd\n",
    "import numpy as np\n",
    "from datetime import datetime, timedelta"
   ]
  },
  {
   "cell_type": "markdown",
   "id": "80d318ba-b63a-4b26-8506-4ed45a40f698",
   "metadata": {
    "tags": []
   },
   "source": [
    "## Navigating within and between the relevant webpages"
   ]
  },
  {
   "cell_type": "markdown",
   "id": "a374429e-0ac7-4603-b1c2-c67199ff5ac3",
   "metadata": {},
   "source": [
    "There are three HTML elements on the Olympedia webpages we need to find:\n",
    "- \"striped\" tables,\n",
    "- tables of class \"biodata\",\n",
    "- drop-down menus with the name \"Parts\" and ID \"runs\"."
   ]
  },
  {
   "cell_type": "markdown",
   "id": "157b5802-6276-4e32-bd9e-7dac5be887af",
   "metadata": {},
   "source": [
    "The three functions below take a URL (as a string) and return the first occurrence of each such element at that URL (as a BeautifulSoup Tag object)."
   ]
  },
  {
   "cell_type": "code",
   "execution_count": 2,
   "id": "dd60af96-28d9-465c-8524-ceb5259a5a4a",
   "metadata": {},
   "outputs": [],
   "source": [
    "def striped_table(url):\n",
    "    response = requests.get(url)\n",
    "    soup = BeautifulSoup(response.text, 'html.parser')\n",
    "    table = soup.find('table', {'class':'table table-striped'})\n",
    "    \n",
    "    return table"
   ]
  },
  {
   "cell_type": "code",
   "execution_count": 3,
   "id": "d111f0ca-35f3-4434-a711-7a90109aab2c",
   "metadata": {},
   "outputs": [],
   "source": [
    "def biodata_table(url):\n",
    "    response = requests.get(url)\n",
    "    soup = BeautifulSoup(response.text, 'html.parser')\n",
    "    table = soup.find('table', {'class':'biodata'})\n",
    "    \n",
    "    return table"
   ]
  },
  {
   "cell_type": "code",
   "execution_count": 4,
   "id": "7a655c51-37d6-4282-83ce-2da0cd53c603",
   "metadata": {},
   "outputs": [],
   "source": [
    "def parts_menu(url):\n",
    "    response = requests.get(url)\n",
    "    soup = BeautifulSoup(response.text, 'html.parser')\n",
    "    menus = soup.find_all('select')\n",
    "    \n",
    "    for menu in menus:\n",
    "        if 'runs' in menu['id']:\n",
    "            return menu"
   ]
  },
  {
   "cell_type": "markdown",
   "id": "1d90356a-1f85-44a2-89a8-2fcb31d727f4",
   "metadata": {},
   "source": [
    "We also need to find the URLs of relevant subpages, starting from the [top-level decathlon page](https://www.olympedia.org/event_names/93) cited in the Introduction. Note that we memoize these functions to reduce runtime; this becomes essential later when we need to find and read from very many webpages to create the DataFrames."
   ]
  },
  {
   "cell_type": "code",
   "execution_count": 5,
   "id": "090d0601-3aef-468e-b41c-1022889435e0",
   "metadata": {},
   "outputs": [],
   "source": [
    "URL_PREFIX = 'https://www.olympedia.org'\n",
    "URL_TOP = 'https://www.olympedia.org/event_names/93'"
   ]
  },
  {
   "cell_type": "code",
   "execution_count": 6,
   "id": "18b196f8-b7f6-4279-8fb2-bf3dfa8c2948",
   "metadata": {},
   "outputs": [],
   "source": [
    "@functools.cache\n",
    "def overall_url(year):\n",
    "    table = striped_table(URL_TOP)\n",
    "    rows = table.find_all('tr')\n",
    "    \n",
    "    for row in rows[1:]:\n",
    "        row_data = row.find_all('td')\n",
    "        if row_data[0].text == year:\n",
    "            rel_url = row_data[1].find('a')['href']\n",
    "            return URL_PREFIX + rel_url"
   ]
  },
  {
   "cell_type": "code",
   "execution_count": 7,
   "id": "8ea92b59-9905-4307-a1aa-309f090d7c5a",
   "metadata": {},
   "outputs": [],
   "source": [
    "@functools.cache\n",
    "def bio_url(year, athlete):\n",
    "    table = striped_table(overall_url(year))\n",
    "    rows = table.find_all('tr')\n",
    "    \n",
    "    for row in rows[1:]:\n",
    "        row_data = row.find_all('td')\n",
    "        if row_data[2].text.strip() == athlete:\n",
    "            rel_url = row_data[2].find('a')['href']\n",
    "            return URL_PREFIX + rel_url"
   ]
  },
  {
   "cell_type": "code",
   "execution_count": 8,
   "id": "6ce4aa8e-c6ef-4abc-82f0-cf7b5c3c2bfe",
   "metadata": {},
   "outputs": [],
   "source": [
    "@functools.cache\n",
    "def event_url(year, event):\n",
    "    menu = parts_menu(overall_url(year))\n",
    "    options = menu.find_all('option')\n",
    "    \n",
    "    for option in options[1:]:\n",
    "        if option.text == event:\n",
    "            rel_url = '/results/' + option['value']\n",
    "            return URL_PREFIX + rel_url"
   ]
  },
  {
   "cell_type": "markdown",
   "id": "6caf28be-d972-4ea8-922b-25964959d006",
   "metadata": {},
   "source": [
    "## The overall data"
   ]
  },
  {
   "cell_type": "markdown",
   "id": "51e949cf-dffb-4151-9e20-a4f253463ba4",
   "metadata": {},
   "source": [
    "Here we collect data from the subpages given by the `overall_url` function. For an example, see the [overall page for the 2016 decathlon](https://www.olympedia.org/results/358863). The desired attributes are the athletes' overall ranks, overall points, and nationalities. Sometimes the results for the constituent events are also included on these subpages, but not always; because of this lack of consistency, it's easier to collect that data separately."
   ]
  },
  {
   "cell_type": "markdown",
   "id": "e0897b86-a2b7-4d8c-8c18-eeb2ba198c37",
   "metadata": {},
   "source": [
    "The decathlon's scoring system changed a few times during the 20th century. Since we want to compare performances across time, we'll use the modern scoring system (first implemented in 1985) for everything. Some earlier Olympics have both hand-timed and automatically-timed results for the running events; we always choose the automatic times."
   ]
  },
  {
   "cell_type": "markdown",
   "id": "3ee32929-f3aa-4619-bd54-558e5ec02d5c",
   "metadata": {},
   "source": [
    "All the numerical data we collect will be represented with the Decimal type, as the inexactness of floating point arithmetic causes problems with the score calculations later on. For our purposes, the performance disadvantage compared to using the float type is not significant."
   ]
  },
  {
   "cell_type": "code",
   "execution_count": 9,
   "id": "23b072d6-dd89-494c-9ce4-b3d05a87e596",
   "metadata": {},
   "outputs": [],
   "source": [
    "def d(x):\n",
    "    try:\n",
    "        return Decimal(x)\n",
    "    except:\n",
    "        return Decimal('NaN')"
   ]
  },
  {
   "cell_type": "markdown",
   "id": "b5ff628e-9b4c-4847-b5bb-38833df673f8",
   "metadata": {},
   "source": [
    "Some of the country codes in the data no longer exist. Since we'll want to visualize the geographic distribution of participants, medalists, etc. later on, we replace those country codes with their modern equivalents. The mapping from old to new codes was created manually by looking up the nationalities of the 61 competitors whose original states no longer exist, and is stored in the `old_to_new_IOC.csv` file."
   ]
  },
  {
   "cell_type": "markdown",
   "id": "e8be6335-07a0-4701-bbbe-29802fbc8747",
   "metadata": {},
   "source": [
    "We also need to convert IOC country codes to the more common 3-letter ISO codes. The mapping in the file `IOC_to_ISO.csv` comes from the table at WorldData.info [here](https://www.worlddata.info/countrycodes.php)."
   ]
  },
  {
   "cell_type": "code",
   "execution_count": 10,
   "id": "8ece77e6-a320-420a-839a-4efba549f703",
   "metadata": {},
   "outputs": [],
   "source": [
    "@functools.cache\n",
    "def old_to_new_IOC(old_ioc, athlete):\n",
    "    D = pd.read_csv('old_to_new_IOC.csv', index_col=[0,1])\n",
    "    try: \n",
    "        return D.at[(old_ioc, athlete), 'New IOC']\n",
    "    except:\n",
    "        return old_ioc"
   ]
  },
  {
   "cell_type": "code",
   "execution_count": 11,
   "id": "9280e76e-092f-474a-bf47-d2d303b469c3",
   "metadata": {},
   "outputs": [],
   "source": [
    "@functools.cache\n",
    "def IOC_to_ISO(ioc):\n",
    "    D = pd.read_csv('IOC_to_ISO.csv', index_col=0)\n",
    "    return D.at[ioc, 'ISO']"
   ]
  },
  {
   "cell_type": "markdown",
   "id": "c546227b-e05e-49aa-b403-313061b60a1f",
   "metadata": {},
   "source": [
    "Now we can assemble the overall data for a given year."
   ]
  },
  {
   "cell_type": "code",
   "execution_count": 12,
   "id": "e640c4a2-2631-4c54-b262-b633bdb62e93",
   "metadata": {},
   "outputs": [],
   "source": [
    "@functools.cache\n",
    "def overall_data(year):\n",
    "    table = striped_table(overall_url(year))\n",
    "    unfiltered_data = pd.read_html(str(table), index_col='Athlete')[0]\n",
    "    \n",
    "    for points_type in (' (1985 Auto Tables)', ' (1985 Hand Tables)', ''):\n",
    "        if 'Points' + points_type in unfiltered_data.columns:\n",
    "            points = 'Points' + points_type\n",
    "            break\n",
    "    if year == '1972':    # 1972 auto-time scores on Olympedia are mislabeled\n",
    "        points = 'Points (1985 Hand Tables)'\n",
    "    cols = ['Pos', points, 'NOC']\n",
    "    data = unfiltered_data.reindex(columns=cols)\n",
    "    \n",
    "    data = data.replace({'=':''}, regex=True)    # Removes '=' from tied ranks\n",
    "    data = data.rename(columns={'Pos':'Overall Rank',\n",
    "                                points:'Overall Points',\n",
    "                                'NOC':'Country'})\n",
    "    \n",
    "    for col in ('Overall Rank', 'Overall Points'):\n",
    "        data[col] = data[col].apply(d)\n",
    "        data[col] = data[col].apply(round, args=(0,))\n",
    "        \n",
    "    if year == '1920':    # One row of the 1920 data is entirely empty\n",
    "        data = data.drop(index=np.nan)\n",
    "    if year == '1968':    # Some 1968 scores on Olympedia are 1 point too low\n",
    "        data.at['Wu Ah-Min', 'Overall Points'] = d('7155')\n",
    "        data.at['Franz Biedermann', 'Overall Points'] = d('6221')\n",
    "        \n",
    "    data = data.reset_index()   # 'Athlete' column to be an argument of new_NOC\n",
    "    data['Country'] = data.apply(lambda x: old_to_new_IOC(x.Country, x.Athlete),\n",
    "                                 axis=1)\n",
    "    data['Country'] = data['Country'].apply(IOC_to_ISO)\n",
    "    data = data.set_index('Athlete')\n",
    "    \n",
    "    return data"
   ]
  },
  {
   "cell_type": "markdown",
   "id": "64a65821-a5a1-4c3c-a7bc-51655486c790",
   "metadata": {},
   "source": [
    "Let's test the `overall_data` function for the year 2016."
   ]
  },
  {
   "cell_type": "code",
   "execution_count": 13,
   "id": "6246fba0-e731-4d36-83b7-fdca18a4124e",
   "metadata": {},
   "outputs": [
    {
     "data": {
      "text/html": [
       "<div>\n",
       "<style scoped>\n",
       "    .dataframe tbody tr th:only-of-type {\n",
       "        vertical-align: middle;\n",
       "    }\n",
       "\n",
       "    .dataframe tbody tr th {\n",
       "        vertical-align: top;\n",
       "    }\n",
       "\n",
       "    .dataframe thead th {\n",
       "        text-align: right;\n",
       "    }\n",
       "</style>\n",
       "<table border=\"1\" class=\"dataframe\">\n",
       "  <thead>\n",
       "    <tr style=\"text-align: right;\">\n",
       "      <th></th>\n",
       "      <th>Overall Rank</th>\n",
       "      <th>Overall Points</th>\n",
       "      <th>Country</th>\n",
       "    </tr>\n",
       "    <tr>\n",
       "      <th>Athlete</th>\n",
       "      <th></th>\n",
       "      <th></th>\n",
       "      <th></th>\n",
       "    </tr>\n",
       "  </thead>\n",
       "  <tbody>\n",
       "    <tr>\n",
       "      <th>Ashton Eaton</th>\n",
       "      <td>1</td>\n",
       "      <td>8893</td>\n",
       "      <td>USA</td>\n",
       "    </tr>\n",
       "    <tr>\n",
       "      <th>Kévin Mayer</th>\n",
       "      <td>2</td>\n",
       "      <td>8834</td>\n",
       "      <td>FRA</td>\n",
       "    </tr>\n",
       "    <tr>\n",
       "      <th>Damian Warner</th>\n",
       "      <td>3</td>\n",
       "      <td>8666</td>\n",
       "      <td>CAN</td>\n",
       "    </tr>\n",
       "  </tbody>\n",
       "</table>\n",
       "</div>"
      ],
      "text/plain": [
       "              Overall Rank Overall Points Country\n",
       "Athlete                                          \n",
       "Ashton Eaton             1           8893     USA\n",
       "Kévin Mayer              2           8834     FRA\n",
       "Damian Warner            3           8666     CAN"
      ]
     },
     "execution_count": 13,
     "metadata": {},
     "output_type": "execute_result"
    }
   ],
   "source": [
    "overall_data('2016').head(3)"
   ]
  },
  {
   "cell_type": "markdown",
   "id": "0e54cb17-d5c5-4616-9d1a-4732ae45f276",
   "metadata": {},
   "source": [
    "## The biographical data"
   ]
  },
  {
   "cell_type": "markdown",
   "id": "74b27042-95c3-40ce-a037-4c0be583b3bb",
   "metadata": {},
   "source": [
    "Here we collect data from the subpages given by the `bio_url` function. For an example, see the [biography page for Ashton Eaton](https://www.olympedia.org/athletes/126672). The desired attributes are the athletes' heights, weights, and ages at the given Olympics. Because of how the data is formatted, we need a few auxiliary functions to obtain this information."
   ]
  },
  {
   "cell_type": "markdown",
   "id": "8cc43885-d3db-442b-ba1a-9c2f9e4da55e",
   "metadata": {},
   "source": [
    "First, we need a way of extracting an athlete's birth date from the webpage. The birth date is embedded in a table entry whose form is usually, but not always, \"\\[day\\] \\[month\\] \\[year\\] in \\[birth place\\]\". Sometimes the day is missing, sometimes the day and the month are both missing, in one instance the phrase includes the word \"circa\" because the precise year is unknown, and sometimes no birth date is listed at all.\n",
    "- If the birth day is missing but the month and year are known, we set the day to the 16th, halfway through the month.\n",
    "- If the birth month is missing but the year is known, we set the day and month to the 2nd of July, halfway through the year.\n",
    "- If an approximate year is known (the \"circa\" case), we treat it as the exact year and then do the same thing as above."
   ]
  },
  {
   "cell_type": "markdown",
   "id": "6b9d7eaa-0458-4615-8191-bd7179f6e22f",
   "metadata": {},
   "source": [
    "There are few enough exceptions of this kind that no general age trends will be obscured by these minor approximations."
   ]
  },
  {
   "cell_type": "markdown",
   "id": "a2414ada-41e8-459b-a1d9-35bbd3dfcde9",
   "metadata": {},
   "source": [
    "The `extract_date` function takes a string as input and returns a datetime object as output."
   ]
  },
  {
   "cell_type": "code",
   "execution_count": 14,
   "id": "9cd2b63b-a3f3-4531-a467-9a7c02328c52",
   "metadata": {},
   "outputs": [],
   "source": [
    "def extract_date(date_in_place):\n",
    "    date = date_in_place.partition(' in ')[0]\n",
    "    date_format = '%d %B %Y'\n",
    "    \n",
    "    if 'circa' in date:\n",
    "        date = ''.join([d for d in date if d.isdigit()])\n",
    "    if date.isnumeric():\n",
    "        date = '2 July ' + date\n",
    "        \n",
    "    if date.isalpha() or not date:\n",
    "        return pd.NaT\n",
    "    try:\n",
    "        return datetime.strptime(date, date_format)\n",
    "    except:\n",
    "        return datetime.strptime('16 ' + date, date_format)"
   ]
  },
  {
   "cell_type": "markdown",
   "id": "69e87cd1-36ac-4b10-93a6-db616a9a2fa3",
   "metadata": {},
   "source": [
    "We also need to know the start date of the Olympic decathlon in each year."
   ]
  },
  {
   "cell_type": "code",
   "execution_count": 15,
   "id": "68beaf8f-3655-49a3-bb31-195c17b005b3",
   "metadata": {},
   "outputs": [],
   "source": [
    "@functools.cache\n",
    "def oly_date(year):\n",
    "    table = biodata_table(overall_url(year))\n",
    "    rows = table.find_all('tr')\n",
    "    for row in rows:\n",
    "        row_header = row.find('th')\n",
    "        if row_header.text == 'Date':\n",
    "            dates = row.find('td').text\n",
    "            \n",
    "    start_day = next(x for x in dates.split() if x.isdigit())\n",
    "    start_month = next(x for x in dates.split() if x.isalpha())\n",
    "    year = next(x for x in reversed(dates.split()) if x.isdigit())\n",
    "    date = ' '.join([start_day, start_month, year])\n",
    "    date_format = '%d %B %Y'\n",
    "    \n",
    "    return datetime.strptime(date, date_format)"
   ]
  },
  {
   "cell_type": "markdown",
   "id": "f17cdaa9-b5d1-424a-a23a-84e711c900b6",
   "metadata": {},
   "source": [
    "Calculating age (in years, as a Decimal rounded to the nearest hundredth) from two datetime objects is a simple subtraction."
   ]
  },
  {
   "cell_type": "code",
   "execution_count": 16,
   "id": "2e0335ac-2433-462a-9229-8113b7839f27",
   "metadata": {},
   "outputs": [],
   "source": [
    "def age(birth_date, current_date):\n",
    "    age_in_days = d((current_date - birth_date).days)\n",
    "    age = round(age_in_days / d(365.25), 2)    # Ignores leap years\n",
    "    \n",
    "    return age"
   ]
  },
  {
   "cell_type": "markdown",
   "id": "116525ab-6303-452f-a023-6448993a0ad4",
   "metadata": {},
   "source": [
    "We also need to be able to extract heights and weights from table entries of the form \"\\[height\\] / \\[weight\\]\". Sometimes one of the measurements is missing. For at least one athlete, the weight is given as a range, in which case we return the middle of the range. All heights and weights in the archive are in cm and kg, respectively, so again we omit units. These functions both return Decimals rounded to the nearest integer."
   ]
  },
  {
   "cell_type": "code",
   "execution_count": 17,
   "id": "e8888253-62b1-4307-ac55-bcaa32ca0d02",
   "metadata": {},
   "outputs": [],
   "source": [
    "def extract_height(height_and_weight):\n",
    "    height = height_and_weight.partition(' cm')[0]\n",
    "    height = round(d(height), 0)\n",
    "\n",
    "    return height"
   ]
  },
  {
   "cell_type": "code",
   "execution_count": 18,
   "id": "12b8e8de-905e-4183-bfd7-ec85fab26cf3",
   "metadata": {},
   "outputs": [],
   "source": [
    "def extract_weight(height_and_weight):\n",
    "    weight = height_and_weight.partition(' / ')[2].partition(' kg')[0]\n",
    "    \n",
    "    if '-' in weight:\n",
    "        low_weight = d(weight.partition('-')[0])\n",
    "        high_weight = d(weight.partition('-')[2])\n",
    "        weight = round((low_weight + high_weight) / d(2), 0)\n",
    "    else:\n",
    "        weight = round(d(weight), 0)\n",
    "    \n",
    "    return weight"
   ]
  },
  {
   "cell_type": "markdown",
   "id": "f3fe65ff-71a0-4f4b-8878-1303951e0a6c",
   "metadata": {},
   "source": [
    "Finally, we need a list of all the athletes competing in a given year's decathlon."
   ]
  },
  {
   "cell_type": "code",
   "execution_count": 19,
   "id": "9d76d909-4eaf-4217-a4ce-8b8973e8ecb7",
   "metadata": {},
   "outputs": [],
   "source": [
    "@functools.cache\n",
    "def athletes(year):\n",
    "    return [x for x in list(overall_data(year).index) if isinstance(x, str)]"
   ]
  },
  {
   "cell_type": "markdown",
   "id": "e324dd97-69c8-41af-8d7f-f222e184ee76",
   "metadata": {},
   "source": [
    "Now we can assemble the biographical data for a given year, first for one athlete, then for all the year's athletes."
   ]
  },
  {
   "cell_type": "code",
   "execution_count": 20,
   "id": "1bfda23a-09e8-45b7-a79a-0054f7d432ec",
   "metadata": {},
   "outputs": [],
   "source": [
    "@functools.cache\n",
    "def bio_data(year, athlete):\n",
    "    table = biodata_table(bio_url(year, athlete))\n",
    "    unfiltered_data = pd.read_html(str(table), index_col=0)[0]\n",
    "    \n",
    "    unfiltered_data = unfiltered_data.T\n",
    "    cols = ['Born','Measurements']\n",
    "    data = unfiltered_data.reindex(columns=cols, fill_value='')\n",
    "\n",
    "    birth_date = data['Born'].apply(extract_date)\n",
    "    data['Age'] = birth_date.apply(age, current_date=oly_date(year))\n",
    "    data['Height'] = data['Measurements'].apply(extract_height)\n",
    "    data['Weight'] = data['Measurements'].apply(extract_weight)\n",
    "    \n",
    "    data = data.drop(columns=['Born', 'Measurements'])\n",
    "    data = data.rename_axis('Athlete')\n",
    "    data = data.rename(index={1:athlete})\n",
    "\n",
    "    return data"
   ]
  },
  {
   "cell_type": "code",
   "execution_count": 21,
   "id": "340f7a69-ab19-4e45-9f2f-6aef31f5def4",
   "metadata": {},
   "outputs": [],
   "source": [
    "@functools.cache\n",
    "def bios_data(year):\n",
    "    frames = [bio_data(year, athlete) for athlete in athletes(year)]\n",
    "    return pd.concat(frames)"
   ]
  },
  {
   "cell_type": "markdown",
   "id": "17b68031-17de-4fac-bba1-70aee798f004",
   "metadata": {},
   "source": [
    "Testing the `bio_data` and `bios_data` functions for the year 2016:"
   ]
  },
  {
   "cell_type": "code",
   "execution_count": 22,
   "id": "b9868f3f-0be5-465c-aa7d-fd46ebfcf3bf",
   "metadata": {},
   "outputs": [
    {
     "data": {
      "text/html": [
       "<div>\n",
       "<style scoped>\n",
       "    .dataframe tbody tr th:only-of-type {\n",
       "        vertical-align: middle;\n",
       "    }\n",
       "\n",
       "    .dataframe tbody tr th {\n",
       "        vertical-align: top;\n",
       "    }\n",
       "\n",
       "    .dataframe thead th {\n",
       "        text-align: right;\n",
       "    }\n",
       "</style>\n",
       "<table border=\"1\" class=\"dataframe\">\n",
       "  <thead>\n",
       "    <tr style=\"text-align: right;\">\n",
       "      <th></th>\n",
       "      <th>Age</th>\n",
       "      <th>Height</th>\n",
       "      <th>Weight</th>\n",
       "    </tr>\n",
       "    <tr>\n",
       "      <th>Athlete</th>\n",
       "      <th></th>\n",
       "      <th></th>\n",
       "      <th></th>\n",
       "    </tr>\n",
       "  </thead>\n",
       "  <tbody>\n",
       "    <tr>\n",
       "      <th>Ashton Eaton</th>\n",
       "      <td>28.57</td>\n",
       "      <td>186</td>\n",
       "      <td>81</td>\n",
       "    </tr>\n",
       "  </tbody>\n",
       "</table>\n",
       "</div>"
      ],
      "text/plain": [
       "0               Age Height Weight\n",
       "Athlete                          \n",
       "Ashton Eaton  28.57    186     81"
      ]
     },
     "execution_count": 22,
     "metadata": {},
     "output_type": "execute_result"
    }
   ],
   "source": [
    "bio_data('2016', 'Ashton Eaton')"
   ]
  },
  {
   "cell_type": "code",
   "execution_count": 23,
   "id": "4bb14197-4f0c-4865-9983-acb34978de52",
   "metadata": {},
   "outputs": [
    {
     "data": {
      "text/html": [
       "<div>\n",
       "<style scoped>\n",
       "    .dataframe tbody tr th:only-of-type {\n",
       "        vertical-align: middle;\n",
       "    }\n",
       "\n",
       "    .dataframe tbody tr th {\n",
       "        vertical-align: top;\n",
       "    }\n",
       "\n",
       "    .dataframe thead th {\n",
       "        text-align: right;\n",
       "    }\n",
       "</style>\n",
       "<table border=\"1\" class=\"dataframe\">\n",
       "  <thead>\n",
       "    <tr style=\"text-align: right;\">\n",
       "      <th></th>\n",
       "      <th>Age</th>\n",
       "      <th>Height</th>\n",
       "      <th>Weight</th>\n",
       "    </tr>\n",
       "    <tr>\n",
       "      <th>Athlete</th>\n",
       "      <th></th>\n",
       "      <th></th>\n",
       "      <th></th>\n",
       "    </tr>\n",
       "  </thead>\n",
       "  <tbody>\n",
       "    <tr>\n",
       "      <th>Ashton Eaton</th>\n",
       "      <td>28.57</td>\n",
       "      <td>186</td>\n",
       "      <td>81</td>\n",
       "    </tr>\n",
       "    <tr>\n",
       "      <th>Kévin Mayer</th>\n",
       "      <td>24.52</td>\n",
       "      <td>186</td>\n",
       "      <td>77</td>\n",
       "    </tr>\n",
       "    <tr>\n",
       "      <th>Damian Warner</th>\n",
       "      <td>26.78</td>\n",
       "      <td>185</td>\n",
       "      <td>83</td>\n",
       "    </tr>\n",
       "  </tbody>\n",
       "</table>\n",
       "</div>"
      ],
      "text/plain": [
       "0                Age Height Weight\n",
       "Athlete                           \n",
       "Ashton Eaton   28.57    186     81\n",
       "Kévin Mayer    24.52    186     77\n",
       "Damian Warner  26.78    185     83"
      ]
     },
     "execution_count": 23,
     "metadata": {},
     "output_type": "execute_result"
    }
   ],
   "source": [
    "bios_data('2016').head(3)"
   ]
  },
  {
   "cell_type": "markdown",
   "id": "8fe40e2e-9a1f-472d-94d2-7cbe1eb030df",
   "metadata": {},
   "source": [
    "## The events data"
   ]
  },
  {
   "cell_type": "markdown",
   "id": "da42c632-b3da-4936-b19a-8f92a90192aa",
   "metadata": {},
   "source": [
    "Here we collect data from the subpages given by the `event_url` function. For an example, see the [event page for the 2016 decathlon 100m](http://www.olympedia.org/results/358864). The desired attributes are the athletes' results (times, distances, or heights), ranks, and scores in the given event. As with the biographical data, we need a couple of auxiliary functions."
   ]
  },
  {
   "cell_type": "markdown",
   "id": "a748b087-c618-4391-ab71-ae36c8f90d5f",
   "metadata": {},
   "source": [
    "Times for the 1500m are given in the usual \"\\[minutes\\]:\\[seconds\\]\" format. For ease of calculation and consistency with the other running events, we'll use the following function to convert these times to seconds, taking a string as input and returning a Decimal as output. (Times from the 400m occur both in seconds and in the \"\\[minutes\\]:\\[seconds\\]\" format, hence the \"if\" statement.)"
   ]
  },
  {
   "cell_type": "code",
   "execution_count": 24,
   "id": "eda5196c-7464-40e7-a1a5-ddb49a8d1d76",
   "metadata": {},
   "outputs": [],
   "source": [
    "def extract_seconds(time):\n",
    "    if type(time) == float or time.replace('.', '', 1).isdigit():\n",
    "        sec = time\n",
    "    else:\n",
    "        sec = pd.to_timedelta('00:0' + time, errors='coerce').total_seconds()\n",
    "    \n",
    "    return round(d(sec), 2)"
   ]
  },
  {
   "cell_type": "markdown",
   "id": "9ca8a2d8-b750-442c-a92c-d5f975acfd51",
   "metadata": {},
   "source": [
    "A few of the long jump distances have a \"w\" suffix to indicate that the jump was wind-aided: jumps with a >2.0 m/s tailwind can't be counted as records, though they are still valid within a given decathlon competition. Wind-aided jumps are rare enough that it will not cause confusion to simply drop the \"w\" when it occurs."
   ]
  },
  {
   "cell_type": "code",
   "execution_count": 25,
   "id": "0fcf6b42-c073-4b1b-bd23-f89f3a2b4c42",
   "metadata": {},
   "outputs": [],
   "source": [
    "def remove_w(distance):\n",
    "    try:\n",
    "        return distance.replace('w', '')\n",
    "    except:\n",
    "        return distance"
   ]
  },
  {
   "cell_type": "markdown",
   "id": "fdb0a013-cc89-4048-8364-3a9577e95f64",
   "metadata": {},
   "source": [
    "In order to make historical comparisons, we need to use a single scoring system for all Olympic years. Naturally, we choose the modern scoring system. Although event scores *are* included on these subpages, these are the scores according to the scoring system *during that year*, not necessarily the modern one.  So we calculate the scores ourselves, using the raw results (times, distances, heights) along with the modern scoring formulas implemented below. The formula parameters a, b, and c are set by the governing body World Athletics; see [here](https://worldathletics.org/about-iaaf/documents/technical-information) for details."
   ]
  },
  {
   "cell_type": "code",
   "execution_count": 26,
   "id": "3d4ce004-ad65-4147-8a03-253aac14deda",
   "metadata": {},
   "outputs": [],
   "source": [
    "events = ('100 metres', 'Long Jump',\n",
    "          'Shot Put', 'High Jump',\n",
    "          '400 metres', '110 metres Hurdles',\n",
    "          'Discus Throw', 'Pole Vault',\n",
    "          'Javelin Throw', '1,500 metres')\n",
    "\n",
    "runs = ('100 metres', '400 metres', '110 metres Hurdles', '1,500 metres')\n",
    "jumps = ('Long Jump', 'High Jump', 'Pole Vault')\n",
    "throws = ('Shot Put', 'Discus Throw', 'Javelin Throw')"
   ]
  },
  {
   "cell_type": "code",
   "execution_count": 27,
   "id": "39ca001b-2fee-4d55-8454-b814036b40a1",
   "metadata": {},
   "outputs": [],
   "source": [
    "def points(x, event):\n",
    "    SP = pd.read_csv('scoring_parameters.csv',\n",
    "                 index_col=0,\n",
    "                 converters={'a':d, 'b':d, 'c':d})\n",
    "    a = SP['a'].to_dict()\n",
    "    b = SP['b'].to_dict()\n",
    "    c = SP['c'].to_dict()\n",
    "    \n",
    "    x = d(str(x)).quantize(d('.01'), rounding=ROUND_DOWN)\n",
    "    \n",
    "    if x.is_nan():\n",
    "        return d('NaN')\n",
    "    \n",
    "    if event in runs:\n",
    "        if x.compare(b[event]) == d('-1'):\n",
    "            p = a[event] * (b[event] - x)**c[event]\n",
    "        else:\n",
    "            p = d('0')\n",
    "    if event in jumps:\n",
    "        if (x*d('100')).compare(b[event]) == d('1'):\n",
    "            p = a[event] * (x*d('100') - b[event])**c[event]\n",
    "        else:\n",
    "            p = d('0')\n",
    "    if event in throws:\n",
    "        if x.compare(b[event]) == d('1'):\n",
    "            p = a[event] * (x - b[event])**c[event]\n",
    "        else:\n",
    "            p = d('0')\n",
    "    p = p.quantize(d('1'), rounding=ROUND_DOWN)\n",
    "    \n",
    "    return p"
   ]
  },
  {
   "cell_type": "markdown",
   "id": "06a91287-49ff-47dc-bcdb-dd7820a5f5e2",
   "metadata": {},
   "source": [
    "To distinguish between hand times and automatic times, we define a \"precision\" function to keep track of the number of decimal places in the reported results for each event and year. Hand times are always reported to the nearest 0.1 seconds, while automatic times are always reported to the nearest 0.01 seconds. While distances and heights are almost always reported to the nearest centimeter, distances were reported to the nearest millimeter in some early Olympics."
   ]
  },
  {
   "cell_type": "code",
   "execution_count": 28,
   "id": "37dd6507-d8ec-4463-bab4-2dd2c7eb6115",
   "metadata": {},
   "outputs": [],
   "source": [
    "def precision(year, event):\n",
    "    year = int(year)\n",
    "    \n",
    "    if event in ('100 metres', '100 metres Time'):\n",
    "        return 1 if (year <= 1948 or year in (1964,)) else 2\n",
    "    if event in ('Long Jump', 'Long Jump Distance'):\n",
    "        return 3 if (year in (1920, 1924, 1948)) else 2\n",
    "    if event in ('Shot Put', 'Shot Put Distance'):\n",
    "        return 3 if (year in (1924,)) else 2\n",
    "    if event in ('High Jump', 'High Jump Height'):\n",
    "        return 2\n",
    "    if event in ('400 metres', '400 metres Time'):\n",
    "        return 1 if (year <= 1948 or year in (1960, 1964)) else 2\n",
    "    if event in ('110 metres Hurdles', '110 metres Hurdles Time'):\n",
    "        return 1 if (year <= 1948 or year in (1964,)) else 2\n",
    "    if event in ('Discus Throw', 'Discus Throw Distance'):\n",
    "        return 3 if (year in (1920, 1924)) else 2\n",
    "    if event in ('Pole Vault', 'Pole Vault Height'):\n",
    "        return 2\n",
    "    if event in ('Javelin Throw', 'Javelin Throw Distance'):\n",
    "        return 3 if (year in (1920, 1924)) else 2\n",
    "    if event in ('1,500 metres', '1,500 metres Time'):\n",
    "        return 1 if (year <= 1948 or year in (1960, 1964, 1972, 1980)) else 2"
   ]
  },
  {
   "cell_type": "markdown",
   "id": "7340cb79-8421-4820-ae8a-68175de376f1",
   "metadata": {},
   "source": [
    "Now we can assemble the event data for a given year, first for one event, then for all the year's events. We always use automatically-timed results for the running events when available; up to 1948, the running results were only hand-timed. In order to calculate the scores correctly according to the modern system, we must add 0.24 seconds to hand-timed 100m and 110m results, and 0.14 seconds to hand-timed 400m results."
   ]
  },
  {
   "cell_type": "code",
   "execution_count": 29,
   "id": "ebcd1d53-a71d-472d-a1c9-4044eafe5720",
   "metadata": {},
   "outputs": [],
   "source": [
    "@functools.cache\n",
    "def event_data(year, event):\n",
    "    table = striped_table(event_url(year, event))\n",
    "    unfiltered_data = pd.read_html(str(table), index_col='Athlete')[0]\n",
    "    \n",
    "    for results_type in ('Time', 'T(A)', 'T(H)', 'Distance', 'BHC'):\n",
    "        if results_type in unfiltered_data.columns:\n",
    "            results = results_type\n",
    "            break\n",
    "    cols = ['Pos', results]\n",
    "    data = unfiltered_data.reindex(columns=cols)\n",
    "    \n",
    "    if event in ('Long Jump'):\n",
    "        data[results] = data[results].apply(remove_w)\n",
    "    if event in ('400 metres', '1,500 metres'):\n",
    "        data[results] = data[results].apply(extract_seconds)\n",
    "    \n",
    "    data[results] = data[results].apply(str).apply(d)\n",
    "    data[results] = data[results].apply(round, args=(precision(year, event),))\n",
    "    \n",
    "    auto_results = data[results]\n",
    "    if event in ('100 metres', '110 metres Hurdles'):\n",
    "        if int(year) <= 1948 or int(year) in (1964,):\n",
    "            auto_results = auto_results + d('0.24')\n",
    "    if event in ('400 metres',):\n",
    "        if int(year) <= 1948 or int(year) in (1960, 1964):\n",
    "            auto_results = auto_results + d('0.14')\n",
    "    data[event + ' Points'] = auto_results.apply(points, args=(event,))\n",
    "\n",
    "    data = data.replace({'=':''}, regex=True)\n",
    "    data = data.replace({0:'', '0':''}, regex=False)    # Removes null results\n",
    "    renamed_results = results\n",
    "    if results in ('T(A)', 'T(H)'):\n",
    "        renamed_results = 'Time'\n",
    "    if results in ('BHC'):    # 'BHC' means 'best height cleared'\n",
    "        renamed_results = 'Height'\n",
    "    data = data.rename(columns={'Pos':event + ' Rank',\n",
    "                                results:event + ' ' + renamed_results})\n",
    "    \n",
    "    data[event + ' Rank'] = data[event + ' Rank'].apply(d)\n",
    "    data[event + ' Rank'] = data[event + ' Rank'].apply(round, args=(0,))\n",
    "    \n",
    "    # Some 1952 hurdles results have no automatic times, only hand times\n",
    "    if year == '1952' and event == '110 metres Hurdles':\n",
    "        data.at['Ignace Heinrich', event + ' Time'] = d('16.0')\n",
    "        data.at['Brígido Iriarte', event + ' Time'] = d('16.6')\n",
    "        data.at['Reynaldo Oliver', event + ' Time'] = d('16.7')\n",
    "        data.at['Eeles Landström', event + ' Time'] = d('17.1')\n",
    "        data.at['Ignace Heinrich', event + ' Points'] = points('16.24', event)\n",
    "        data.at['Brígido Iriarte', event + ' Points'] = points('16.84', event)\n",
    "        data.at['Reynaldo Oliver', event + ' Points'] = points('16.94', event)\n",
    "        data.at['Eeles Landström', event + ' Points'] = points('17.34', event)\n",
    "\n",
    "    return data"
   ]
  },
  {
   "cell_type": "code",
   "execution_count": 30,
   "id": "32f15e6d-212f-4c2a-84e7-4c610942f568",
   "metadata": {},
   "outputs": [],
   "source": [
    "@functools.cache\n",
    "def events_data(year):\n",
    "    frames = [event_data(year, event) for event in events]\n",
    "    data = pd.concat(frames, axis=1)\n",
    "    data = data.fillna(d('NaN'))\n",
    "    \n",
    "    return data"
   ]
  },
  {
   "cell_type": "markdown",
   "id": "f614a1cb-3963-44e9-b9b6-241ff0e2cbe4",
   "metadata": {},
   "source": [
    "Testing the `event_data` and `events_data` functions for the year 2016:"
   ]
  },
  {
   "cell_type": "code",
   "execution_count": 31,
   "id": "9b53a70e-0157-4772-9059-fa7b584668d0",
   "metadata": {},
   "outputs": [
    {
     "data": {
      "text/html": [
       "<div>\n",
       "<style scoped>\n",
       "    .dataframe tbody tr th:only-of-type {\n",
       "        vertical-align: middle;\n",
       "    }\n",
       "\n",
       "    .dataframe tbody tr th {\n",
       "        vertical-align: top;\n",
       "    }\n",
       "\n",
       "    .dataframe thead th {\n",
       "        text-align: right;\n",
       "    }\n",
       "</style>\n",
       "<table border=\"1\" class=\"dataframe\">\n",
       "  <thead>\n",
       "    <tr style=\"text-align: right;\">\n",
       "      <th></th>\n",
       "      <th>100 metres Rank</th>\n",
       "      <th>100 metres Time</th>\n",
       "      <th>100 metres Points</th>\n",
       "    </tr>\n",
       "    <tr>\n",
       "      <th>Athlete</th>\n",
       "      <th></th>\n",
       "      <th></th>\n",
       "      <th></th>\n",
       "    </tr>\n",
       "  </thead>\n",
       "  <tbody>\n",
       "    <tr>\n",
       "      <th>Damian Warner</th>\n",
       "      <td>1</td>\n",
       "      <td>10.30</td>\n",
       "      <td>1023</td>\n",
       "    </tr>\n",
       "    <tr>\n",
       "      <th>Ashton Eaton</th>\n",
       "      <td>2</td>\n",
       "      <td>10.46</td>\n",
       "      <td>985</td>\n",
       "    </tr>\n",
       "    <tr>\n",
       "      <th>Zach Ziemek</th>\n",
       "      <td>3</td>\n",
       "      <td>10.71</td>\n",
       "      <td>926</td>\n",
       "    </tr>\n",
       "  </tbody>\n",
       "</table>\n",
       "</div>"
      ],
      "text/plain": [
       "              100 metres Rank 100 metres Time 100 metres Points\n",
       "Athlete                                                        \n",
       "Damian Warner               1           10.30              1023\n",
       "Ashton Eaton                2           10.46               985\n",
       "Zach Ziemek                 3           10.71               926"
      ]
     },
     "execution_count": 31,
     "metadata": {},
     "output_type": "execute_result"
    }
   ],
   "source": [
    "event_data('2016', '100 metres').head(3)"
   ]
  },
  {
   "cell_type": "code",
   "execution_count": 32,
   "id": "25386693-c95f-4cd6-a4f1-37559ef21e2e",
   "metadata": {},
   "outputs": [
    {
     "data": {
      "text/html": [
       "<div>\n",
       "<style scoped>\n",
       "    .dataframe tbody tr th:only-of-type {\n",
       "        vertical-align: middle;\n",
       "    }\n",
       "\n",
       "    .dataframe tbody tr th {\n",
       "        vertical-align: top;\n",
       "    }\n",
       "\n",
       "    .dataframe thead th {\n",
       "        text-align: right;\n",
       "    }\n",
       "</style>\n",
       "<table border=\"1\" class=\"dataframe\">\n",
       "  <thead>\n",
       "    <tr style=\"text-align: right;\">\n",
       "      <th></th>\n",
       "      <th>100 metres Rank</th>\n",
       "      <th>100 metres Time</th>\n",
       "      <th>100 metres Points</th>\n",
       "      <th>Long Jump Rank</th>\n",
       "      <th>Long Jump Distance</th>\n",
       "      <th>Long Jump Points</th>\n",
       "      <th>Shot Put Rank</th>\n",
       "      <th>Shot Put Distance</th>\n",
       "      <th>Shot Put Points</th>\n",
       "      <th>High Jump Rank</th>\n",
       "      <th>...</th>\n",
       "      <th>Discus Throw Points</th>\n",
       "      <th>Pole Vault Rank</th>\n",
       "      <th>Pole Vault Height</th>\n",
       "      <th>Pole Vault Points</th>\n",
       "      <th>Javelin Throw Rank</th>\n",
       "      <th>Javelin Throw Distance</th>\n",
       "      <th>Javelin Throw Points</th>\n",
       "      <th>1,500 metres Rank</th>\n",
       "      <th>1,500 metres Time</th>\n",
       "      <th>1,500 metres Points</th>\n",
       "    </tr>\n",
       "    <tr>\n",
       "      <th>Athlete</th>\n",
       "      <th></th>\n",
       "      <th></th>\n",
       "      <th></th>\n",
       "      <th></th>\n",
       "      <th></th>\n",
       "      <th></th>\n",
       "      <th></th>\n",
       "      <th></th>\n",
       "      <th></th>\n",
       "      <th></th>\n",
       "      <th></th>\n",
       "      <th></th>\n",
       "      <th></th>\n",
       "      <th></th>\n",
       "      <th></th>\n",
       "      <th></th>\n",
       "      <th></th>\n",
       "      <th></th>\n",
       "      <th></th>\n",
       "      <th></th>\n",
       "      <th></th>\n",
       "    </tr>\n",
       "  </thead>\n",
       "  <tbody>\n",
       "    <tr>\n",
       "      <th>Damian Warner</th>\n",
       "      <td>1</td>\n",
       "      <td>10.30</td>\n",
       "      <td>1023</td>\n",
       "      <td>3</td>\n",
       "      <td>7.67</td>\n",
       "      <td>977</td>\n",
       "      <td>23</td>\n",
       "      <td>13.66</td>\n",
       "      <td>708</td>\n",
       "      <td>10</td>\n",
       "      <td>...</td>\n",
       "      <td>765</td>\n",
       "      <td>15</td>\n",
       "      <td>4.70</td>\n",
       "      <td>819</td>\n",
       "      <td>11</td>\n",
       "      <td>63.19</td>\n",
       "      <td>786</td>\n",
       "      <td>5</td>\n",
       "      <td>264.90</td>\n",
       "      <td>778</td>\n",
       "    </tr>\n",
       "    <tr>\n",
       "      <th>Ashton Eaton</th>\n",
       "      <td>2</td>\n",
       "      <td>10.46</td>\n",
       "      <td>985</td>\n",
       "      <td>1</td>\n",
       "      <td>7.94</td>\n",
       "      <td>1045</td>\n",
       "      <td>10</td>\n",
       "      <td>14.73</td>\n",
       "      <td>773</td>\n",
       "      <td>14</td>\n",
       "      <td>...</td>\n",
       "      <td>777</td>\n",
       "      <td>3</td>\n",
       "      <td>5.20</td>\n",
       "      <td>972</td>\n",
       "      <td>18</td>\n",
       "      <td>59.77</td>\n",
       "      <td>734</td>\n",
       "      <td>4</td>\n",
       "      <td>263.33</td>\n",
       "      <td>789</td>\n",
       "    </tr>\n",
       "    <tr>\n",
       "      <th>Zach Ziemek</th>\n",
       "      <td>3</td>\n",
       "      <td>10.71</td>\n",
       "      <td>926</td>\n",
       "      <td>9</td>\n",
       "      <td>7.49</td>\n",
       "      <td>932</td>\n",
       "      <td>25</td>\n",
       "      <td>13.44</td>\n",
       "      <td>694</td>\n",
       "      <td>5</td>\n",
       "      <td>...</td>\n",
       "      <td>858</td>\n",
       "      <td>3</td>\n",
       "      <td>5.20</td>\n",
       "      <td>972</td>\n",
       "      <td>15</td>\n",
       "      <td>60.92</td>\n",
       "      <td>752</td>\n",
       "      <td>18</td>\n",
       "      <td>282.97</td>\n",
       "      <td>662</td>\n",
       "    </tr>\n",
       "  </tbody>\n",
       "</table>\n",
       "<p>3 rows × 30 columns</p>\n",
       "</div>"
      ],
      "text/plain": [
       "              100 metres Rank 100 metres Time 100 metres Points  \\\n",
       "Athlete                                                           \n",
       "Damian Warner               1           10.30              1023   \n",
       "Ashton Eaton                2           10.46               985   \n",
       "Zach Ziemek                 3           10.71               926   \n",
       "\n",
       "              Long Jump Rank Long Jump Distance Long Jump Points  \\\n",
       "Athlete                                                            \n",
       "Damian Warner              3               7.67              977   \n",
       "Ashton Eaton               1               7.94             1045   \n",
       "Zach Ziemek                9               7.49              932   \n",
       "\n",
       "              Shot Put Rank Shot Put Distance Shot Put Points High Jump Rank  \\\n",
       "Athlete                                                                        \n",
       "Damian Warner            23             13.66             708             10   \n",
       "Ashton Eaton             10             14.73             773             14   \n",
       "Zach Ziemek              25             13.44             694              5   \n",
       "\n",
       "               ... Discus Throw Points Pole Vault Rank Pole Vault Height  \\\n",
       "Athlete        ...                                                         \n",
       "Damian Warner  ...                 765              15              4.70   \n",
       "Ashton Eaton   ...                 777               3              5.20   \n",
       "Zach Ziemek    ...                 858               3              5.20   \n",
       "\n",
       "              Pole Vault Points Javelin Throw Rank Javelin Throw Distance  \\\n",
       "Athlete                                                                     \n",
       "Damian Warner               819                 11                  63.19   \n",
       "Ashton Eaton                972                 18                  59.77   \n",
       "Zach Ziemek                 972                 15                  60.92   \n",
       "\n",
       "              Javelin Throw Points 1,500 metres Rank 1,500 metres Time  \\\n",
       "Athlete                                                                  \n",
       "Damian Warner                  786                 5            264.90   \n",
       "Ashton Eaton                   734                 4            263.33   \n",
       "Zach Ziemek                    752                18            282.97   \n",
       "\n",
       "              1,500 metres Points  \n",
       "Athlete                            \n",
       "Damian Warner                 778  \n",
       "Ashton Eaton                  789  \n",
       "Zach Ziemek                   662  \n",
       "\n",
       "[3 rows x 30 columns]"
      ]
     },
     "execution_count": 32,
     "metadata": {},
     "output_type": "execute_result"
    }
   ],
   "source": [
    "events_data('2016').head(3)"
   ]
  },
  {
   "cell_type": "markdown",
   "id": "5c044b8e-e963-4132-b95d-9fd426b5b12c",
   "metadata": {},
   "source": [
    "<div style=\"page-break-after: always\"></div>\n",
    "\n",
    "## Putting it all together"
   ]
  },
  {
   "cell_type": "markdown",
   "id": "98fd01b1-ee90-4e2b-9f05-b012b4c4f10e",
   "metadata": {},
   "source": [
    "Now that the component DataFrames are complete, we can combine all the data for a given year."
   ]
  },
  {
   "cell_type": "code",
   "execution_count": 33,
   "id": "08e2c8fc-c65f-495c-b174-43172a91dcd2",
   "metadata": {},
   "outputs": [],
   "source": [
    "@functools.cache\n",
    "def all_types_data(year):\n",
    "    frames = [overall_data(year), bios_data(year), events_data(year)]\n",
    "    data = pd.concat(frames, axis=1)\n",
    "    \n",
    "    sum_cols = [x for x in data.columns\n",
    "                if 'Points' in x and 'Overall' not in x]\n",
    "    if year == '1952':    # 1952 scores are miscalculated on Olympedia\n",
    "        col = 'Overall Points'\n",
    "        data[col] = data[col].where(~(data['Overall Rank'] > 0),\n",
    "                                data[sum_cols].sum(axis=1).apply(d))\n",
    "    \n",
    "    return data"
   ]
  },
  {
   "cell_type": "markdown",
   "id": "0c2c4033-bc14-406a-9275-394524782ac3",
   "metadata": {},
   "source": [
    "Testing the `all_types_data` function for the year 2016:"
   ]
  },
  {
   "cell_type": "code",
   "execution_count": 34,
   "id": "cc1a6e2f-1b9b-443a-82fa-d43d49fe1a55",
   "metadata": {},
   "outputs": [
    {
     "data": {
      "text/html": [
       "<div>\n",
       "<style scoped>\n",
       "    .dataframe tbody tr th:only-of-type {\n",
       "        vertical-align: middle;\n",
       "    }\n",
       "\n",
       "    .dataframe tbody tr th {\n",
       "        vertical-align: top;\n",
       "    }\n",
       "\n",
       "    .dataframe thead th {\n",
       "        text-align: right;\n",
       "    }\n",
       "</style>\n",
       "<table border=\"1\" class=\"dataframe\">\n",
       "  <thead>\n",
       "    <tr style=\"text-align: right;\">\n",
       "      <th></th>\n",
       "      <th>Overall Rank</th>\n",
       "      <th>Overall Points</th>\n",
       "      <th>Country</th>\n",
       "      <th>Age</th>\n",
       "      <th>Height</th>\n",
       "      <th>Weight</th>\n",
       "      <th>100 metres Rank</th>\n",
       "      <th>100 metres Time</th>\n",
       "      <th>100 metres Points</th>\n",
       "      <th>Long Jump Rank</th>\n",
       "      <th>...</th>\n",
       "      <th>Discus Throw Points</th>\n",
       "      <th>Pole Vault Rank</th>\n",
       "      <th>Pole Vault Height</th>\n",
       "      <th>Pole Vault Points</th>\n",
       "      <th>Javelin Throw Rank</th>\n",
       "      <th>Javelin Throw Distance</th>\n",
       "      <th>Javelin Throw Points</th>\n",
       "      <th>1,500 metres Rank</th>\n",
       "      <th>1,500 metres Time</th>\n",
       "      <th>1,500 metres Points</th>\n",
       "    </tr>\n",
       "    <tr>\n",
       "      <th>Athlete</th>\n",
       "      <th></th>\n",
       "      <th></th>\n",
       "      <th></th>\n",
       "      <th></th>\n",
       "      <th></th>\n",
       "      <th></th>\n",
       "      <th></th>\n",
       "      <th></th>\n",
       "      <th></th>\n",
       "      <th></th>\n",
       "      <th></th>\n",
       "      <th></th>\n",
       "      <th></th>\n",
       "      <th></th>\n",
       "      <th></th>\n",
       "      <th></th>\n",
       "      <th></th>\n",
       "      <th></th>\n",
       "      <th></th>\n",
       "      <th></th>\n",
       "      <th></th>\n",
       "    </tr>\n",
       "  </thead>\n",
       "  <tbody>\n",
       "    <tr>\n",
       "      <th>Ashton Eaton</th>\n",
       "      <td>1</td>\n",
       "      <td>8893</td>\n",
       "      <td>USA</td>\n",
       "      <td>28.57</td>\n",
       "      <td>186</td>\n",
       "      <td>81</td>\n",
       "      <td>2</td>\n",
       "      <td>10.46</td>\n",
       "      <td>985</td>\n",
       "      <td>1</td>\n",
       "      <td>...</td>\n",
       "      <td>777</td>\n",
       "      <td>3</td>\n",
       "      <td>5.20</td>\n",
       "      <td>972</td>\n",
       "      <td>18</td>\n",
       "      <td>59.77</td>\n",
       "      <td>734</td>\n",
       "      <td>4</td>\n",
       "      <td>263.33</td>\n",
       "      <td>789</td>\n",
       "    </tr>\n",
       "    <tr>\n",
       "      <th>Kévin Mayer</th>\n",
       "      <td>2</td>\n",
       "      <td>8834</td>\n",
       "      <td>FRA</td>\n",
       "      <td>24.52</td>\n",
       "      <td>186</td>\n",
       "      <td>77</td>\n",
       "      <td>9</td>\n",
       "      <td>10.81</td>\n",
       "      <td>903</td>\n",
       "      <td>5</td>\n",
       "      <td>...</td>\n",
       "      <td>804</td>\n",
       "      <td>1</td>\n",
       "      <td>5.40</td>\n",
       "      <td>1035</td>\n",
       "      <td>6</td>\n",
       "      <td>65.04</td>\n",
       "      <td>814</td>\n",
       "      <td>6</td>\n",
       "      <td>265.49</td>\n",
       "      <td>774</td>\n",
       "    </tr>\n",
       "    <tr>\n",
       "      <th>Damian Warner</th>\n",
       "      <td>3</td>\n",
       "      <td>8666</td>\n",
       "      <td>CAN</td>\n",
       "      <td>26.78</td>\n",
       "      <td>185</td>\n",
       "      <td>83</td>\n",
       "      <td>1</td>\n",
       "      <td>10.30</td>\n",
       "      <td>1023</td>\n",
       "      <td>3</td>\n",
       "      <td>...</td>\n",
       "      <td>765</td>\n",
       "      <td>15</td>\n",
       "      <td>4.70</td>\n",
       "      <td>819</td>\n",
       "      <td>11</td>\n",
       "      <td>63.19</td>\n",
       "      <td>786</td>\n",
       "      <td>5</td>\n",
       "      <td>264.90</td>\n",
       "      <td>778</td>\n",
       "    </tr>\n",
       "  </tbody>\n",
       "</table>\n",
       "<p>3 rows × 36 columns</p>\n",
       "</div>"
      ],
      "text/plain": [
       "              Overall Rank Overall Points Country    Age Height Weight  \\\n",
       "Athlete                                                                  \n",
       "Ashton Eaton             1           8893     USA  28.57    186     81   \n",
       "Kévin Mayer              2           8834     FRA  24.52    186     77   \n",
       "Damian Warner            3           8666     CAN  26.78    185     83   \n",
       "\n",
       "              100 metres Rank 100 metres Time 100 metres Points  \\\n",
       "Athlete                                                           \n",
       "Ashton Eaton                2           10.46               985   \n",
       "Kévin Mayer                 9           10.81               903   \n",
       "Damian Warner               1           10.30              1023   \n",
       "\n",
       "              Long Jump Rank  ... Discus Throw Points Pole Vault Rank  \\\n",
       "Athlete                       ...                                       \n",
       "Ashton Eaton               1  ...                 777               3   \n",
       "Kévin Mayer                5  ...                 804               1   \n",
       "Damian Warner              3  ...                 765              15   \n",
       "\n",
       "              Pole Vault Height Pole Vault Points Javelin Throw Rank  \\\n",
       "Athlete                                                                \n",
       "Ashton Eaton               5.20               972                 18   \n",
       "Kévin Mayer                5.40              1035                  6   \n",
       "Damian Warner              4.70               819                 11   \n",
       "\n",
       "              Javelin Throw Distance Javelin Throw Points 1,500 metres Rank  \\\n",
       "Athlete                                                                       \n",
       "Ashton Eaton                   59.77                  734                 4   \n",
       "Kévin Mayer                    65.04                  814                 6   \n",
       "Damian Warner                  63.19                  786                 5   \n",
       "\n",
       "              1,500 metres Time 1,500 metres Points  \n",
       "Athlete                                              \n",
       "Ashton Eaton             263.33                 789  \n",
       "Kévin Mayer              265.49                 774  \n",
       "Damian Warner            264.90                 778  \n",
       "\n",
       "[3 rows x 36 columns]"
      ]
     },
     "execution_count": 34,
     "metadata": {},
     "output_type": "execute_result"
    }
   ],
   "source": [
    "all_types_data('2016').head(3)"
   ]
  },
  {
   "cell_type": "markdown",
   "id": "170958be-0041-42b3-8c94-d814edab2fcd",
   "metadata": {},
   "source": [
    "Finally, we put the `all_types_data` DataFrames from every Olympic year together. Since the scraping functions used here are not applicable for the year 2020, we import the 2020 data from a CSV file (created manually from the results on Wikipedia)."
   ]
  },
  {
   "cell_type": "code",
   "execution_count": 35,
   "id": "7d63d913-c2e5-4865-8de9-2a28adae763b",
   "metadata": {},
   "outputs": [],
   "source": [
    "years = [str(x) for x in range(1912, 2020, 4) if x not in (1916, 1940, 1944)]"
   ]
  },
  {
   "cell_type": "code",
   "execution_count": 36,
   "id": "dc430ecf-a5e0-4b7e-9efb-4bedf302fd34",
   "metadata": {},
   "outputs": [],
   "source": [
    "@functools.cache\n",
    "def all_types_data_2020():\n",
    "    data = pd.read_csv('decathlon_data_2020.csv',\n",
    "                       index_col='Athlete')\n",
    "    \n",
    "    rank_cols = [x for x in data.columns if ' Rank' in x]\n",
    "    points_cols = [x for x in data.columns if ' Points' in x]\n",
    "    htwt_cols = ['Height', 'Weight']\n",
    "    int_cols = rank_cols + points_cols + htwt_cols\n",
    "    \n",
    "    age_col = ['Age']\n",
    "    \n",
    "    time_cols = [x for x in data.columns if ' Time' in x]\n",
    "    distance_cols = [x for x in data.columns if ' Distance' in x]\n",
    "    height_cols = [x for x in data.columns if ' Height' in x]\n",
    "    results_cols = time_cols + distance_cols + height_cols\n",
    "\n",
    "    num_cols = int_cols + age_col + results_cols\n",
    "    \n",
    "    for col in num_cols:\n",
    "        data[col] = data[col].apply(d)\n",
    "        if col in int_cols:\n",
    "            data[col] = data[col].apply(round, args=(0,))\n",
    "        if col in age_col:\n",
    "            data[col] = data[col].apply(round, args=(2,))\n",
    "        if col in results_cols:\n",
    "            data[col] = data[col].apply(round, args=(precision('2020', col),))\n",
    "            \n",
    "    data = data.reset_index()   # 'Athlete' column to be an argument of new_NOC\n",
    "    data['Country'] = data.apply(lambda x: old_to_new_IOC(x.Country, x.Athlete),\n",
    "                                 axis=1)\n",
    "    data['Country'] = data['Country'].apply(IOC_to_ISO)\n",
    "    data = data.set_index('Athlete')\n",
    "            \n",
    "    return data"
   ]
  },
  {
   "cell_type": "code",
   "execution_count": 37,
   "id": "e2031e69-d881-4c66-9047-6871f25a6777",
   "metadata": {},
   "outputs": [],
   "source": [
    "@functools.cache\n",
    "def decathlon_data():\n",
    "    frames = [all_types_data(year) for year in years] + [all_types_data_2020()]\n",
    "    data = pd.concat(frames, keys=years + ['2020'], names=['Year'])\n",
    "    \n",
    "    return data"
   ]
  },
  {
   "cell_type": "code",
   "execution_count": 38,
   "id": "6b4c8231-87c7-4fb2-95c2-52218531bd99",
   "metadata": {},
   "outputs": [],
   "source": [
    "def export_decathlon_data():\n",
    "    decathlon_data().to_csv('decathlon_data.csv')\n",
    "    print('Exported!')"
   ]
  },
  {
   "cell_type": "markdown",
   "id": "d658a8be-362d-482d-8bf8-3e217fccd805",
   "metadata": {},
   "source": [
    "We conclude by executing the export, and displaying the head and tail of the final DataFrame for good measure:"
   ]
  },
  {
   "cell_type": "code",
   "execution_count": 39,
   "id": "394ba393-d9ee-435d-9cca-0fbf2d2147d2",
   "metadata": {},
   "outputs": [
    {
     "name": "stdout",
     "output_type": "stream",
     "text": [
      "Exported!\n"
     ]
    }
   ],
   "source": [
    "export_decathlon_data()"
   ]
  },
  {
   "cell_type": "code",
   "execution_count": 40,
   "id": "76397218-60e1-48a0-aea9-db5ae430030a",
   "metadata": {},
   "outputs": [
    {
     "data": {
      "text/html": [
       "<div>\n",
       "<style scoped>\n",
       "    .dataframe tbody tr th:only-of-type {\n",
       "        vertical-align: middle;\n",
       "    }\n",
       "\n",
       "    .dataframe tbody tr th {\n",
       "        vertical-align: top;\n",
       "    }\n",
       "\n",
       "    .dataframe thead th {\n",
       "        text-align: right;\n",
       "    }\n",
       "</style>\n",
       "<table border=\"1\" class=\"dataframe\">\n",
       "  <thead>\n",
       "    <tr style=\"text-align: right;\">\n",
       "      <th></th>\n",
       "      <th></th>\n",
       "      <th>Overall Rank</th>\n",
       "      <th>Overall Points</th>\n",
       "      <th>Country</th>\n",
       "      <th>Age</th>\n",
       "      <th>Height</th>\n",
       "      <th>Weight</th>\n",
       "      <th>100 metres Rank</th>\n",
       "      <th>100 metres Time</th>\n",
       "      <th>100 metres Points</th>\n",
       "      <th>Long Jump Rank</th>\n",
       "      <th>...</th>\n",
       "      <th>Discus Throw Points</th>\n",
       "      <th>Pole Vault Rank</th>\n",
       "      <th>Pole Vault Height</th>\n",
       "      <th>Pole Vault Points</th>\n",
       "      <th>Javelin Throw Rank</th>\n",
       "      <th>Javelin Throw Distance</th>\n",
       "      <th>Javelin Throw Points</th>\n",
       "      <th>1,500 metres Rank</th>\n",
       "      <th>1,500 metres Time</th>\n",
       "      <th>1,500 metres Points</th>\n",
       "    </tr>\n",
       "    <tr>\n",
       "      <th>Year</th>\n",
       "      <th>Athlete</th>\n",
       "      <th></th>\n",
       "      <th></th>\n",
       "      <th></th>\n",
       "      <th></th>\n",
       "      <th></th>\n",
       "      <th></th>\n",
       "      <th></th>\n",
       "      <th></th>\n",
       "      <th></th>\n",
       "      <th></th>\n",
       "      <th></th>\n",
       "      <th></th>\n",
       "      <th></th>\n",
       "      <th></th>\n",
       "      <th></th>\n",
       "      <th></th>\n",
       "      <th></th>\n",
       "      <th></th>\n",
       "      <th></th>\n",
       "      <th></th>\n",
       "      <th></th>\n",
       "    </tr>\n",
       "  </thead>\n",
       "  <tbody>\n",
       "    <tr>\n",
       "      <th rowspan=\"3\" valign=\"top\">1912</th>\n",
       "      <th>Jim Thorpe</th>\n",
       "      <td>1</td>\n",
       "      <td>6564</td>\n",
       "      <td>USA</td>\n",
       "      <td>25.13</td>\n",
       "      <td>183</td>\n",
       "      <td>86</td>\n",
       "      <td>3</td>\n",
       "      <td>11.2</td>\n",
       "      <td>765</td>\n",
       "      <td>3</td>\n",
       "      <td>...</td>\n",
       "      <td>603</td>\n",
       "      <td>3</td>\n",
       "      <td>3.25</td>\n",
       "      <td>418</td>\n",
       "      <td>4</td>\n",
       "      <td>45.70</td>\n",
       "      <td>525</td>\n",
       "      <td>1</td>\n",
       "      <td>280.1</td>\n",
       "      <td>680</td>\n",
       "    </tr>\n",
       "    <tr>\n",
       "      <th>Hugo Wieslander</th>\n",
       "      <td>2</td>\n",
       "      <td>5966</td>\n",
       "      <td>SWE</td>\n",
       "      <td>23.09</td>\n",
       "      <td>182</td>\n",
       "      <td>81</td>\n",
       "      <td>13</td>\n",
       "      <td>11.8</td>\n",
       "      <td>643</td>\n",
       "      <td>8</td>\n",
       "      <td>...</td>\n",
       "      <td>590</td>\n",
       "      <td>8</td>\n",
       "      <td>3.10</td>\n",
       "      <td>381</td>\n",
       "      <td>1</td>\n",
       "      <td>50.40</td>\n",
       "      <td>595</td>\n",
       "      <td>6</td>\n",
       "      <td>285.0</td>\n",
       "      <td>649</td>\n",
       "    </tr>\n",
       "    <tr>\n",
       "      <th>Charles Lomberg</th>\n",
       "      <td>3</td>\n",
       "      <td>5722</td>\n",
       "      <td>SWE</td>\n",
       "      <td>25.60</td>\n",
       "      <td>182</td>\n",
       "      <td>75</td>\n",
       "      <td>13</td>\n",
       "      <td>11.8</td>\n",
       "      <td>643</td>\n",
       "      <td>1</td>\n",
       "      <td>...</td>\n",
       "      <td>571</td>\n",
       "      <td>3</td>\n",
       "      <td>3.25</td>\n",
       "      <td>418</td>\n",
       "      <td>7</td>\n",
       "      <td>41.83</td>\n",
       "      <td>469</td>\n",
       "      <td>12</td>\n",
       "      <td>312.2</td>\n",
       "      <td>492</td>\n",
       "    </tr>\n",
       "  </tbody>\n",
       "</table>\n",
       "<p>3 rows × 36 columns</p>\n",
       "</div>"
      ],
      "text/plain": [
       "                     Overall Rank Overall Points Country    Age Height Weight  \\\n",
       "Year Athlete                                                                    \n",
       "1912 Jim Thorpe                 1           6564     USA  25.13    183     86   \n",
       "     Hugo Wieslander            2           5966     SWE  23.09    182     81   \n",
       "     Charles Lomberg            3           5722     SWE  25.60    182     75   \n",
       "\n",
       "                     100 metres Rank 100 metres Time 100 metres Points  \\\n",
       "Year Athlete                                                             \n",
       "1912 Jim Thorpe                    3            11.2               765   \n",
       "     Hugo Wieslander              13            11.8               643   \n",
       "     Charles Lomberg              13            11.8               643   \n",
       "\n",
       "                     Long Jump Rank  ... Discus Throw Points Pole Vault Rank  \\\n",
       "Year Athlete                         ...                                       \n",
       "1912 Jim Thorpe                   3  ...                 603               3   \n",
       "     Hugo Wieslander              8  ...                 590               8   \n",
       "     Charles Lomberg              1  ...                 571               3   \n",
       "\n",
       "                     Pole Vault Height Pole Vault Points Javelin Throw Rank  \\\n",
       "Year Athlete                                                                  \n",
       "1912 Jim Thorpe                   3.25               418                  4   \n",
       "     Hugo Wieslander              3.10               381                  1   \n",
       "     Charles Lomberg              3.25               418                  7   \n",
       "\n",
       "                     Javelin Throw Distance Javelin Throw Points  \\\n",
       "Year Athlete                                                       \n",
       "1912 Jim Thorpe                       45.70                  525   \n",
       "     Hugo Wieslander                  50.40                  595   \n",
       "     Charles Lomberg                  41.83                  469   \n",
       "\n",
       "                     1,500 metres Rank 1,500 metres Time 1,500 metres Points  \n",
       "Year Athlete                                                                  \n",
       "1912 Jim Thorpe                      1             280.1                 680  \n",
       "     Hugo Wieslander                 6             285.0                 649  \n",
       "     Charles Lomberg                12             312.2                 492  \n",
       "\n",
       "[3 rows x 36 columns]"
      ]
     },
     "metadata": {},
     "output_type": "display_data"
    },
    {
     "data": {
      "text/html": [
       "<div>\n",
       "<style scoped>\n",
       "    .dataframe tbody tr th:only-of-type {\n",
       "        vertical-align: middle;\n",
       "    }\n",
       "\n",
       "    .dataframe tbody tr th {\n",
       "        vertical-align: top;\n",
       "    }\n",
       "\n",
       "    .dataframe thead th {\n",
       "        text-align: right;\n",
       "    }\n",
       "</style>\n",
       "<table border=\"1\" class=\"dataframe\">\n",
       "  <thead>\n",
       "    <tr style=\"text-align: right;\">\n",
       "      <th></th>\n",
       "      <th></th>\n",
       "      <th>Overall Rank</th>\n",
       "      <th>Overall Points</th>\n",
       "      <th>Country</th>\n",
       "      <th>Age</th>\n",
       "      <th>Height</th>\n",
       "      <th>Weight</th>\n",
       "      <th>100 metres Rank</th>\n",
       "      <th>100 metres Time</th>\n",
       "      <th>100 metres Points</th>\n",
       "      <th>Long Jump Rank</th>\n",
       "      <th>...</th>\n",
       "      <th>Discus Throw Points</th>\n",
       "      <th>Pole Vault Rank</th>\n",
       "      <th>Pole Vault Height</th>\n",
       "      <th>Pole Vault Points</th>\n",
       "      <th>Javelin Throw Rank</th>\n",
       "      <th>Javelin Throw Distance</th>\n",
       "      <th>Javelin Throw Points</th>\n",
       "      <th>1,500 metres Rank</th>\n",
       "      <th>1,500 metres Time</th>\n",
       "      <th>1,500 metres Points</th>\n",
       "    </tr>\n",
       "    <tr>\n",
       "      <th>Year</th>\n",
       "      <th>Athlete</th>\n",
       "      <th></th>\n",
       "      <th></th>\n",
       "      <th></th>\n",
       "      <th></th>\n",
       "      <th></th>\n",
       "      <th></th>\n",
       "      <th></th>\n",
       "      <th></th>\n",
       "      <th></th>\n",
       "      <th></th>\n",
       "      <th></th>\n",
       "      <th></th>\n",
       "      <th></th>\n",
       "      <th></th>\n",
       "      <th></th>\n",
       "      <th></th>\n",
       "      <th></th>\n",
       "      <th></th>\n",
       "      <th></th>\n",
       "      <th></th>\n",
       "      <th></th>\n",
       "    </tr>\n",
       "  </thead>\n",
       "  <tbody>\n",
       "    <tr>\n",
       "      <th rowspan=\"3\" valign=\"top\">2020</th>\n",
       "      <th>Cedric Dubler</th>\n",
       "      <td>21</td>\n",
       "      <td>7008</td>\n",
       "      <td>AUS</td>\n",
       "      <td>26.56</td>\n",
       "      <td>191</td>\n",
       "      <td>NaN</td>\n",
       "      <td>13</td>\n",
       "      <td>10.89</td>\n",
       "      <td>885</td>\n",
       "      <td>10</td>\n",
       "      <td>...</td>\n",
       "      <td>732</td>\n",
       "      <td>NaN</td>\n",
       "      <td>NaN</td>\n",
       "      <td>NaN</td>\n",
       "      <td>13</td>\n",
       "      <td>58.52</td>\n",
       "      <td>716</td>\n",
       "      <td>21</td>\n",
       "      <td>303.69</td>\n",
       "      <td>539</td>\n",
       "    </tr>\n",
       "    <tr>\n",
       "      <th>Niklas Kaul</th>\n",
       "      <td>NaN</td>\n",
       "      <td>NaN</td>\n",
       "      <td>DEU</td>\n",
       "      <td>23.48</td>\n",
       "      <td>190</td>\n",
       "      <td>90</td>\n",
       "      <td>21</td>\n",
       "      <td>11.22</td>\n",
       "      <td>812</td>\n",
       "      <td>10</td>\n",
       "      <td>...</td>\n",
       "      <td>NaN</td>\n",
       "      <td>NaN</td>\n",
       "      <td>NaN</td>\n",
       "      <td>NaN</td>\n",
       "      <td>NaN</td>\n",
       "      <td>NaN</td>\n",
       "      <td>NaN</td>\n",
       "      <td>NaN</td>\n",
       "      <td>NaN</td>\n",
       "      <td>NaN</td>\n",
       "    </tr>\n",
       "    <tr>\n",
       "      <th>Thomas Van der Plaetsen</th>\n",
       "      <td>NaN</td>\n",
       "      <td>NaN</td>\n",
       "      <td>BEL</td>\n",
       "      <td>30.61</td>\n",
       "      <td>186</td>\n",
       "      <td>81</td>\n",
       "      <td>17</td>\n",
       "      <td>11.05</td>\n",
       "      <td>850</td>\n",
       "      <td>NaN</td>\n",
       "      <td>...</td>\n",
       "      <td>NaN</td>\n",
       "      <td>NaN</td>\n",
       "      <td>NaN</td>\n",
       "      <td>NaN</td>\n",
       "      <td>NaN</td>\n",
       "      <td>NaN</td>\n",
       "      <td>NaN</td>\n",
       "      <td>NaN</td>\n",
       "      <td>NaN</td>\n",
       "      <td>NaN</td>\n",
       "    </tr>\n",
       "  </tbody>\n",
       "</table>\n",
       "<p>3 rows × 36 columns</p>\n",
       "</div>"
      ],
      "text/plain": [
       "                             Overall Rank Overall Points Country    Age  \\\n",
       "Year Athlete                                                              \n",
       "2020 Cedric Dubler                     21           7008     AUS  26.56   \n",
       "     Niklas Kaul                      NaN            NaN     DEU  23.48   \n",
       "     Thomas Van der Plaetsen          NaN            NaN     BEL  30.61   \n",
       "\n",
       "                             Height Weight 100 metres Rank 100 metres Time  \\\n",
       "Year Athlete                                                                 \n",
       "2020 Cedric Dubler              191    NaN              13           10.89   \n",
       "     Niklas Kaul                190     90              21           11.22   \n",
       "     Thomas Van der Plaetsen    186     81              17           11.05   \n",
       "\n",
       "                             100 metres Points Long Jump Rank  ...  \\\n",
       "Year Athlete                                                   ...   \n",
       "2020 Cedric Dubler                         885             10  ...   \n",
       "     Niklas Kaul                           812             10  ...   \n",
       "     Thomas Van der Plaetsen               850            NaN  ...   \n",
       "\n",
       "                             Discus Throw Points Pole Vault Rank  \\\n",
       "Year Athlete                                                       \n",
       "2020 Cedric Dubler                           732             NaN   \n",
       "     Niklas Kaul                             NaN             NaN   \n",
       "     Thomas Van der Plaetsen                 NaN             NaN   \n",
       "\n",
       "                             Pole Vault Height Pole Vault Points  \\\n",
       "Year Athlete                                                       \n",
       "2020 Cedric Dubler                         NaN               NaN   \n",
       "     Niklas Kaul                           NaN               NaN   \n",
       "     Thomas Van der Plaetsen               NaN               NaN   \n",
       "\n",
       "                             Javelin Throw Rank Javelin Throw Distance  \\\n",
       "Year Athlete                                                             \n",
       "2020 Cedric Dubler                           13                  58.52   \n",
       "     Niklas Kaul                            NaN                    NaN   \n",
       "     Thomas Van der Plaetsen                NaN                    NaN   \n",
       "\n",
       "                             Javelin Throw Points 1,500 metres Rank  \\\n",
       "Year Athlete                                                          \n",
       "2020 Cedric Dubler                            716                21   \n",
       "     Niklas Kaul                              NaN               NaN   \n",
       "     Thomas Van der Plaetsen                  NaN               NaN   \n",
       "\n",
       "                             1,500 metres Time 1,500 metres Points  \n",
       "Year Athlete                                                        \n",
       "2020 Cedric Dubler                      303.69                 539  \n",
       "     Niklas Kaul                           NaN                 NaN  \n",
       "     Thomas Van der Plaetsen               NaN                 NaN  \n",
       "\n",
       "[3 rows x 36 columns]"
      ]
     },
     "metadata": {},
     "output_type": "display_data"
    }
   ],
   "source": [
    "display(decathlon_data().head(3))\n",
    "display(decathlon_data().tail(3))"
   ]
  },
  {
   "cell_type": "markdown",
   "id": "cae41618-a3f9-42f3-9f82-c1d4ab37af88",
   "metadata": {},
   "source": [
    "That's it for the data collection! Now the investigation can begin..."
   ]
  }
 ],
 "metadata": {
  "kernelspec": {
   "display_name": "Python 3 (ipykernel)",
   "language": "python",
   "name": "python3"
  },
  "language_info": {
   "codemirror_mode": {
    "name": "ipython",
    "version": 3
   },
   "file_extension": ".py",
   "mimetype": "text/x-python",
   "name": "python",
   "nbconvert_exporter": "python",
   "pygments_lexer": "ipython3",
   "version": "3.9.12"
  },
  "toc-autonumbering": false,
  "toc-showcode": false,
  "toc-showmarkdowntxt": false
 },
 "nbformat": 4,
 "nbformat_minor": 5
}
